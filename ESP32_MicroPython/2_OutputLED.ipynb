{
 "cells": [
  {
   "cell_type": "markdown",
   "id": "246a15bb",
   "metadata": {},
   "source": [
    "https://youtu.be/-pVm4NETFV8"
   ]
  },
  {
   "cell_type": "markdown",
   "id": "da335297",
   "metadata": {},
   "source": [
    "📌 MicroPython 程式碼（點亮 LED）       \n",
    "🔹 設定 GPIO 為輸出模式     \n",
    "📌 步驟 1：開啟 Thonny，建立 main.py 檔案        \n",
    "📌 步驟 2：輸入以下程式碼       \n",
    "📌 步驟 3：儲存檔案，按下執行       \n",
    "✅ 成功點亮 LED！ 🎉"
   ]
  },
  {
   "cell_type": "code",
   "execution_count": null,
   "id": "2ca72c5f",
   "metadata": {},
   "outputs": [],
   "source": [
    "from machine import Pin\n",
    "led = Pin(4, Pin.OUT)  # 設定 GPIO4 為輸出模式\n",
    "led.value(1)  # 設為高電位，開啟 LED"
   ]
  },
  {
   "cell_type": "markdown",
   "id": "173fb5b6",
   "metadata": {},
   "source": [
    "📌 MicroPython 程式碼（LED 閃爍）       \n",
    "我們將使用 time.sleep() 讓 LED 以固定頻率閃爍，類似警示燈效果。     \n",
    "\n",
    "📌 步驟 1：引入 time 模組       \n",
    "📌 步驟 2：輸入以下程式碼      \n",
    "📌 步驟 3：儲存檔案，按下執行       \n",
    "✅ 成功實現 LED 閃爍效果！ 🎉       \n",
    "\n",
    "⚙ 可調整 time.sleep() 來改變閃爍頻率！         "
   ]
  },
  {
   "cell_type": "code",
   "execution_count": null,
   "id": "52a0853e",
   "metadata": {},
   "outputs": [],
   "source": [
    "from machine import Pin\n",
    "import time\n",
    "led = Pin(4, Pin.OUT)\n",
    "while True:\n",
    "    led.value(1)  # LED 開啟\n",
    "    time.sleep(0.5)  # 等待 0.5 秒\n",
    "    led.value(0)  # LED 關閉\n",
    "    time.sleep(0.5)  # 等待 0.5 秒"
   ]
  }
 ],
 "metadata": {
  "language_info": {
   "name": "python"
  }
 },
 "nbformat": 4,
 "nbformat_minor": 5
}
