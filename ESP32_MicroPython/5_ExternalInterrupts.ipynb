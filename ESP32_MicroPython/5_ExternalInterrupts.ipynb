{
 "cells": [
  {
   "cell_type": "markdown",
   "id": "11de8da7",
   "metadata": {},
   "source": [
    "https://youtu.be/rjkQRhqS12o"
   ]
  },
  {
   "cell_type": "markdown",
   "id": "ab40a880",
   "metadata": {},
   "source": [
    "Code 1"
   ]
  },
  {
   "cell_type": "code",
   "execution_count": null,
   "id": "856a9efa",
   "metadata": {},
   "outputs": [],
   "source": [
    "from machine import Pin\n",
    "import time\n",
    "\n",
    "# 設定紅外線避障模組與 LED\n",
    "Dir_Sensor = Pin(5, Pin.IN)  # 紅外線避障模組接 GPIO5，設定為輸入模式\n",
    "LED = Pin(18, Pin.OUT)       # LED 連接 GPIO18，設定為輸出模式\n",
    "\n",
    "# 變數來儲存感測器狀態\n",
    "Sensor_Flag = False\n",
    "\n",
    "# 中斷處理函式：當偵測到負緣觸發，將 Sensor_Flag 設為 True\n",
    "def Sensor_Interrupt(pin):\n",
    "    global Sensor_Flag\n",
    "    Sensor_Flag = True  # 設定標誌，讓 LED 亮起\n",
    "\n",
    "# 設定外部中斷，在負緣 (FALLING) 觸發\n",
    "Dir_Sensor.irq(trigger=Pin.IRQ_FALLING, handler=Sensor_Interrupt)\n",
    "\n",
    "# 無窮迴圈，檢查 sensor_triggered 變數\n",
    "while True:\n",
    "    if Sensor_Flag == True:\n",
    "        LED.value(1)  # 讓 LED 亮起\n",
    "        time.sleep(1)  # 亮 1 秒\n",
    "        LED.value(0)  # LED 熄滅\n",
    "        Sensor_Flag = False  # 重置旗號"
   ]
  },
  {
   "cell_type": "markdown",
   "id": "da579ddb",
   "metadata": {},
   "source": [
    "Code 2"
   ]
  },
  {
   "cell_type": "code",
   "execution_count": null,
   "id": "c5fe0595",
   "metadata": {},
   "outputs": [],
   "source": [
    "from machine import Pin\n",
    "import time\n",
    "\n",
    "# 設定紅外線避障模組與 LED\n",
    "Dir_Sensor = Pin(5, Pin.IN)  # 紅外線避障模組接 GPIO5，設定為輸入模式\n",
    "LED = Pin(18, Pin.OUT)       # LED 連接 GPIO18，設定為輸出模式\n",
    "\n",
    "# 設定變數來儲存狀態\n",
    "Sensor_State = 0  # 0: 沒有觸發, 1: 觸發\n",
    "LED_count = 0  # 計算 LED 亮起的次數\n",
    "\n",
    "# 中斷處理函式：更新 Sensor_State 狀態\n",
    "def sensor_interrupt(pin):\n",
    "    global Sensor_State, LED_count\n",
    "    Sensor_State = pin.value()  # 讀取感測器狀態\n",
    "    if Sensor_State == 0:\n",
    "        LED_count += 1  # 計數 LED 亮起次數\n",
    "        print(f\"LED 亮起次數: {LED_count}\")\n",
    "\n",
    "# 設定外部中斷，在正緣 (RISING) 和負緣 (FALLING) 觸發\n",
    "Dir_Sensor.irq(trigger=Pin.IRQ_RISING | Pin.IRQ_FALLING, handler=sensor_interrupt)\n",
    "\n",
    "# 無窮迴圈，根據 Sensor_State 控制 LED\n",
    "while True:\n",
    "    if Sensor_State == 0:  # 偵測到負緣 (物體靠近)\n",
    "        LED.value(1)  # 讓 LED 亮起\n",
    "    else:  # 偵測到正緣 (物體離開)\n",
    "        LED.value(0)  # LED 熄滅"
   ]
  }
 ],
 "metadata": {
  "language_info": {
   "name": "python"
  }
 },
 "nbformat": 4,
 "nbformat_minor": 5
}
