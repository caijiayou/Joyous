{
 "cells": [
  {
   "cell_type": "markdown",
   "id": "c8f052c0",
   "metadata": {},
   "source": [
    "https://youtu.be/RNrJ1mfJOHc"
   ]
  },
  {
   "cell_type": "markdown",
   "id": "f0714140",
   "metadata": {},
   "source": [
    "Code"
   ]
  },
  {
   "cell_type": "code",
   "execution_count": null,
   "id": "31df115f",
   "metadata": {},
   "outputs": [],
   "source": [
    "from machine import Pin, PWM\n",
    "import time\n",
    "\n",
    "# 伺服馬達 PWM 腳位 (GPIO 5)\n",
    "servo_pin = 5\n",
    "servo = PWM(Pin(servo_pin), freq=50)\n",
    "\n",
    "# 設定左右按鈕腳位 (GPIO 12 和 GPIO 14)\n",
    "btn_left = Pin(12, Pin.IN, Pin.PULL_UP)\n",
    "btn_right = Pin(14, Pin.IN, Pin.PULL_UP)\n",
    "\n",
    "# 初始角度\n",
    "current_angle = 90\n",
    "\n",
    "# 設定角度函式\n",
    "def set_angle(angle):\n",
    "    min_duty = 25   # 2.5% 占空比 (0.5ms)\n",
    "    max_duty = 125  # 12.5% 占空比 (2.5ms)\n",
    "    duty = int(min_duty + (angle / 180) * (max_duty - min_duty))\n",
    "    servo.duty(duty)\n",
    "\n",
    "# 初始化角度\n",
    "set_angle(current_angle)\n",
    "\n",
    "# 主要迴圈：按左邊按鈕往左轉 45°，按右邊按鈕往右轉 45°\n",
    "while True:\n",
    "    if not btn_left.value():\n",
    "        if current_angle >= 45:\n",
    "            current_angle -= 45\n",
    "            set_angle(current_angle)\n",
    "            time.sleep(0.3)  # 防彈跳\n",
    "    elif not btn_right.value():\n",
    "        if current_angle <= 135:\n",
    "            current_angle += 45\n",
    "            set_angle(current_angle)   \n",
    "            time.sleep(0.3)  # 防彈跳\n",
    "    time.sleep(0.05)"
   ]
  }
 ],
 "metadata": {
  "language_info": {
   "name": "python"
  }
 },
 "nbformat": 4,
 "nbformat_minor": 5
}
