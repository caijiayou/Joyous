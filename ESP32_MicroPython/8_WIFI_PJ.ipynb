{
 "cells": [
  {
   "cell_type": "markdown",
   "id": "f95550bd",
   "metadata": {},
   "source": [
    "https://youtu.be/VmQLG-wJ624"
   ]
  },
  {
   "cell_type": "markdown",
   "id": "8962f640",
   "metadata": {},
   "source": [
    "📌 第一部分：ESP32 連接 Wi-Fi       \n",
    "\n",
    "📢 ESP32 需要先連上 Wi-Fi，才能讀取天氣資料"
   ]
  },
  {
   "cell_type": "code",
   "execution_count": null,
   "id": "cabeb700",
   "metadata": {},
   "outputs": [],
   "source": [
    "import network\n",
    "import time\n",
    "\n",
    "# 1️ Wi-Fi 資訊\n",
    "SSID = \"Wi-fi name\"\n",
    "PASSWORD = \"Wi-fi passeord\"\n",
    "\n",
    "wifi = network.WLAN(network.STA_IF)\n",
    "wifi.active(True)\n",
    "wifi.connect(SSID, PASSWORD)\n",
    "\n",
    "while not wifi.isconnected():\n",
    "    print(\"正在連接 Wi-Fi...\")\n",
    "    time.sleep(1)\n",
    "\n",
    "print(\"Wi-Fi 連線成功！\")"
   ]
  },
  {
   "cell_type": "markdown",
   "id": "fb2795c7",
   "metadata": {},
   "source": [
    "📌 第二部分：ESP32 讀取 OpenWeather API     \n",
    "\n",
    "📢 ESP32 透過 OpenWeather API 取得當地天氣"
   ]
  },
  {
   "cell_type": "code",
   "execution_count": null,
   "id": "b11b710b",
   "metadata": {},
   "outputs": [],
   "source": [
    "import network\n",
    "import urequests\n",
    "import time\n",
    "import ujson as json\n",
    "\n",
    "# 1️ Wi-Fi 資訊\n",
    "SSID = \"Wi-fi name\"\n",
    "PASSWORD = \"Wi-fi passeord\"\n",
    "\n",
    "# 2️ OpenWeather API 設定\n",
    "WEATHER_URL = \"Open Weather API Call\"\n",
    "\n",
    "# 連接 Wi-Fi\n",
    "wifi = network.WLAN(network.STA_IF)\n",
    "wifi.active(True)\n",
    "wifi.connect(SSID, PASSWORD)\n",
    "\n",
    "while not wifi.isconnected():\n",
    "    print(\"正在連接 Wi-Fi...\")\n",
    "    time.sleep(1)\n",
    "\n",
    "print(\"Wi-Fi 連線成功！\")\n",
    "\n",
    "# 讀取天氣資料\n",
    "response = urequests.get(WEATHER_URL)\n",
    "\n",
    "print(response.text)"
   ]
  },
  {
   "cell_type": "markdown",
   "id": "c0b5e6a9",
   "metadata": {},
   "source": [
    "📌 第三部分：ESP32 上傳天氣資料到 Google Sheets     \n",
    "\n",
    "📢 ESP32 透過 Google Apps Script 把天氣資料送到雲端試算表"
   ]
  },
  {
   "cell_type": "code",
   "execution_count": null,
   "id": "a00cb468",
   "metadata": {},
   "outputs": [],
   "source": [
    "import network\n",
    "import urequests\n",
    "import time\n",
    "import ujson as json\n",
    "\n",
    "# 1️ Wi-Fi 資訊\n",
    "SSID = \"Wi-fi name\"\n",
    "PASSWORD = \"Wi-fi passeord\"\n",
    "\n",
    "# 2️ OpenWeather API 設定\n",
    "WEATHER_URL = \"Open Weather API Call\"\n",
    "\n",
    "# 3️ Google Apps Script Web App\n",
    "WEB_APP_URL = \"Google Apps Script Web API\"\n",
    "\n",
    "# 連接 Wi-Fi\n",
    "wifi = network.WLAN(network.STA_IF)\n",
    "wifi.active(True)\n",
    "wifi.connect(SSID, PASSWORD)\n",
    "while not wifi.isconnected():\n",
    "    print(\"正在連接 Wi-Fi...\")\n",
    "    time.sleep(1)\n",
    "print(\"Wi-Fi 連線成功！\")\n",
    "\n",
    "while True:\n",
    "    # 讀取天氣資料\n",
    "    response = urequests.get(WEATHER_URL)\n",
    "    weather_data = json.loads(response.text)\n",
    "    Kelvin_temp  = weather_data[\"main\"][\"temp\"]\n",
    "    celsius_temp = Kelvin_temp - 273.15  # 開爾文轉攝氏\n",
    "    humidity = weather_data[\"main\"][\"humidity\"]\n",
    "    description = weather_data[\"weather\"][0][\"description\"]\n",
    "    response.close()\n",
    "    # 準備上傳 Google Sheets 的資料\n",
    "    data = {\n",
    "        \"city\": \"Taipei\",\n",
    "        \"temperature\": celsius_temp,\n",
    "        \"humidity\": humidity,\n",
    "        \"description\": description\n",
    "    }\n",
    "\n",
    "    # 發送請求到 Google Sheets\n",
    "    res = urequests.post(WEB_APP_URL, json=data)\n",
    "    print(\"已將天氣資訊上傳至 Google Sheets！\", res.text)\n",
    "    res.close()\n",
    "\n",
    "    # 等待5秒鐘\n",
    "    time.sleep(5)"
   ]
  },
  {
   "cell_type": "markdown",
   "id": "46e204f3",
   "metadata": {},
   "source": [
    "📌 第四部分：Google Apps Script 處理資料        \n",
    "\n",
    "📢 這段 Apps Script 會收到 ESP32 傳來的資料，並存入 Google Sheets"
   ]
  },
  {
   "cell_type": "code",
   "execution_count": null,
   "id": "79dc1b99",
   "metadata": {},
   "outputs": [],
   "source": [
    "# Google Apps Script 處理收到的資料 (Google Apps Script to handle received data)\n",
    "\n",
    "function doPost(e) {\n",
    "  var ss = SpreadsheetApp.openByUrl(\"你的Google sheet網址\");\n",
    "  var sheet = ss.getSheetByName(\"工作表名稱\");\n",
    "  var data = JSON.parse(e.postData.contents); // 解析收到的 JSON 資料\n",
    "  var lastRow = sheet.getLastRow(); // 取得最後一行的行數\n",
    " \n",
    "  // 如果行數超過 100，則從第 2 行開始覆蓋\n",
    "  var startRow = (lastRow >= 100) ? 2 : lastRow + 1;\n",
    "\n",
    "  // 在指定行插入數據，保留第一行\n",
    "  sheet.getRange(startRow, 1, 1, 5).setValues([\n",
    "    [new Date(), data.city, data.temperature, data.humidity, data.description]\n",
    "  ]);\n",
    "  return ContentService.createTextOutput(\"OK\");\n",
    "}"
   ]
  }
 ],
 "metadata": {
  "language_info": {
   "name": "python"
  }
 },
 "nbformat": 4,
 "nbformat_minor": 5
}
