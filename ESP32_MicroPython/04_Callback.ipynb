{
 "cells": [
  {
   "cell_type": "markdown",
   "id": "1db9acfa",
   "metadata": {},
   "source": [
    "https://youtu.be/tme2o8q-3dM"
   ]
  },
  {
   "cell_type": "markdown",
   "id": "1a72a2f1",
   "metadata": {},
   "source": [
    "Code 1"
   ]
  },
  {
   "cell_type": "code",
   "execution_count": null,
   "id": "133e3e2c",
   "metadata": {},
   "outputs": [],
   "source": [
    "from machine import Timer, Pin\n",
    "\n",
    "# 設定 LED 腳位\n",
    "LED_1 = Pin(4, Pin.OUT)    # GPIO4\n",
    "LED_2 = Pin(16, Pin.OUT)   # GPIO16\n",
    "\n",
    "LED_1.value(1)  #讓 LED_1 先亮\n",
    "LED_2.value(0)  #讓 LED_2 先滅\n",
    "\n",
    "# 計時器\n",
    "timer = Timer(0)\n",
    "\n",
    "# LED 交替閃爍的回調函式\n",
    "def LED_Callback(timer):\n",
    "    LED_1.value(not LED_1.value())  # 切換 LED_1\n",
    "    LED_2.value(not LED_2.value())  # 切換 LED_2\n",
    "\n",
    "# 啟動計時器，週期為 1 秒\n",
    "timer.init(period=1000, mode=Timer.PERIODIC, callback=LED_Callback)"
   ]
  },
  {
   "cell_type": "markdown",
   "id": "b2fdfc87",
   "metadata": {},
   "source": [
    "Code 2"
   ]
  },
  {
   "cell_type": "code",
   "execution_count": null,
   "id": "d52f0641",
   "metadata": {},
   "outputs": [],
   "source": [
    "from machine import Timer, Pin\n",
    "\n",
    "# 設定 LED 腳位\n",
    "LED_1 = Pin(4, Pin.OUT)    # GPIO4\n",
    "LED_2 = Pin(16, Pin.OUT)   # GPIO16\n",
    "\n",
    "# 計時器\n",
    "timer_1 = Timer(0)  # 用來控制 LED_1 和 LED_2 閃爍\n",
    "timer_2 = Timer(1)  # 用來控制改變 timer_1 的週期\n",
    "\n",
    "# 設定速度列表（每個元素代表一個週期，單位毫秒）\n",
    "speed_list = [1500, 1000, 500, 200]  # 週期：1000ms, 500ms, 2000ms, 1500ms\n",
    "\n",
    "# 當前週期索引\n",
    "index = 0\n",
    "\n",
    "# LED 交替閃爍的回調函式\n",
    "def LED_Callback(timer):\n",
    "    LED_1.value(not LED_1.value())  # 切換 LED_1\n",
    "    LED_2.value(not LED_2.value())  # 切換 LED_2\n",
    "\n",
    "# 改變 timer_1 的週期\n",
    "def Change_Timer(timer):\n",
    "    global index\n",
    "    index = (index + 1) % len(speed_list)  # 更新索引\n",
    "    new_period = speed_list[index]  # 取得新的週期\n",
    "    print(f\"切換計時器週期為 {new_period} 毫秒\")\n",
    "  \n",
    "    # 更新計時器週期\n",
    "    timer_1.deinit()  # 停止計時器\n",
    "    timer_1.init(period=new_period, mode=Timer.PERIODIC, callback=LED_Callback)  # 重新設定週期\n",
    "\n",
    "# 初始化計時器\n",
    "timer_1.init(period=speed_list[0], mode=Timer.PERIODIC, callback=LED_Callback)\n",
    "timer_2.init(period=5000, mode=Timer.PERIODIC, callback=Change_Timer)"
   ]
  }
 ],
 "metadata": {
  "language_info": {
   "name": "python"
  }
 },
 "nbformat": 4,
 "nbformat_minor": 5
}
