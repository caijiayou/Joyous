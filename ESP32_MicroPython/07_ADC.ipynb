{
 "cells": [
  {
   "cell_type": "markdown",
   "id": "4fe573fe",
   "metadata": {},
   "source": [
    "https://youtu.be/-Bu5rGZaOMQ"
   ]
  },
  {
   "cell_type": "markdown",
   "id": "901cce9d",
   "metadata": {},
   "source": [
    "Code 1"
   ]
  },
  {
   "cell_type": "code",
   "execution_count": null,
   "id": "3422892c",
   "metadata": {},
   "outputs": [],
   "source": [
    "from machine import ADC, Pin\n",
    "import time\n",
    "\n",
    "# 設定 ADC 腳位（GPIO 36，對應 ADC 通道0）\n",
    "adc = ADC(Pin(36))\n",
    "\n",
    "# 設定 ADC 衰減（允許量測 0~3.3V）\n",
    "adc.atten(ADC.ATTN_11DB)  \n",
    "\n",
    "while True:\n",
    "    # 讀取 ADC 數值（0~4095）\n",
    "    adc_value = adc.read()\n",
    "    \n",
    "    # 轉換為電壓值（3.3V / 4095 * ADC 數值）\n",
    "    voltage = adc_value * (3.3 / 4095)\n",
    "\n",
    "    # 輸出 ADC 數值與電壓\n",
    "    print(f\"ADC 數值: {adc_value} | 電壓: {voltage:.3f}V\")\n",
    "\n",
    "    # 每 0.1 秒更新一次\n",
    "    time.sleep_ms(100)"
   ]
  },
  {
   "cell_type": "markdown",
   "id": "b8e30e66",
   "metadata": {},
   "source": [
    "Code 2"
   ]
  },
  {
   "cell_type": "code",
   "execution_count": null,
   "id": "32f7c9a6",
   "metadata": {},
   "outputs": [],
   "source": [
    "from machine import ADC, Pin , PWM\n",
    "import time\n",
    "\n",
    "# 設定 ADC 腳位（GPIO 36，對應 ADC0）\n",
    "adc = ADC(Pin(36))\n",
    "\n",
    "# 設定 ADC 衰減（允許量測 0~3.3V）\n",
    "adc.atten(ADC.ATTN_11DB)  \n",
    "\n",
    "# 設定 LED PWM (GPIO5)\n",
    "led = PWM(Pin(5), freq=1000, duty=0)  # PWM 頻率 1kHz，初始亮度 0\n",
    "\n",
    "while True:\n",
    "    # 讀取 ADC 數值（0~4095）\n",
    "    adc_value = adc.read()\n",
    "   \n",
    "    # 將 ADC 數值 轉換為 PWM 工作週期（4095 * PWM 工作週期）\n",
    "    duty_cycle = int(adc_value / 4095 * 1023)\n",
    "\n",
    "    # 設定 LED 亮度 \n",
    "    led.duty(duty_cycle)\n",
    "\n",
    "    # 輸出 ADC 數值與電壓\n",
    "    print(f\"ADC 數值: {adc_value} | PWM 亮度: {duty_cycle}\") \n",
    "\n",
    "    # 每 0.1 秒更新一次\n",
    "    time.sleep_ms(100)"
   ]
  }
 ],
 "metadata": {
  "language_info": {
   "name": "python"
  }
 },
 "nbformat": 4,
 "nbformat_minor": 5
}
