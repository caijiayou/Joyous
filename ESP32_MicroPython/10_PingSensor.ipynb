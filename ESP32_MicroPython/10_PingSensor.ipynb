{
 "cells": [
  {
   "cell_type": "markdown",
   "id": "93496e95",
   "metadata": {},
   "source": [
    "https://youtu.be/PmWVbpaQxqU"
   ]
  },
  {
   "cell_type": "markdown",
   "id": "cb7134ed",
   "metadata": {},
   "source": [
    "Code"
   ]
  },
  {
   "cell_type": "code",
   "execution_count": null,
   "id": "1a1e30e9",
   "metadata": {},
   "outputs": [],
   "source": [
    "from machine import Pin                # 從machine模組引入Pin物件，用來控制GPIO腳位\n",
    "from time import ticks_us, sleep_us   # 引入微秒等級的時間函數\n",
    "import time                           # 引入time模組，使用 sleep() 函數\n",
    "\n",
    "# 設定超音波模組的腳位\n",
    "trig = Pin(5, Pin.OUT)    # Trig為輸出腳，接ESP32的GPIO 5\n",
    "echo = Pin(18, Pin.IN)    # Echo為輸入腳，接ESP32的GPIO 18\n",
    "\n",
    "# 定義取得距離的函式\n",
    "def get_distance():\n",
    "    trig.value(0)         # 確保Trig為低電位\n",
    "    sleep_us(2)           # 等待2微秒穩定\n",
    "\n",
    "    trig.value(1)         # 發出10微秒的高電位脈衝\n",
    "    sleep_us(10)\n",
    "    trig.value(0)         # 關閉Trig，準備接收回波\n",
    "\n",
    "    timeout = 10000       # 設定等待超時時間（單位：微秒）\n",
    "\n",
    "    # 等待Echo變為高電位（開始計時）\n",
    "    start = ticks_us()\n",
    "    while echo.value() == 0:\n",
    "        if ticks_us() - start > timeout:\n",
    "            return -1     # 超過等待時間，表示無法偵測到物體\n",
    "\n",
    "    ts = ticks_us()       # 回波開始的時間戳記\n",
    "\n",
    "    # 等待Echo回到低電位（結束計時）\n",
    "    start = ticks_us()\n",
    "    while echo.value() == 1:\n",
    "        if ticks_us() - start > timeout:\n",
    "            return -1     # 超過等待時間，表示回波異常或物體太近\n",
    "\n",
    "    te = ticks_us()       # 回波結束的時間戳記\n",
    "\n",
    "    tc = te - ts          # 計算回音時間（單位：微秒）\n",
    "\n",
    "    # 距離計算公式：距離 = 音速 * 時間 / 2\n",
    "    # 音速約為340公尺/秒，換算成公分/微秒為0.034 cm/us，所以這邊直接除以10000即可\n",
    "    distance = (tc * 340 / 2) / 10000  # 計算出距離（單位：公分）\n",
    "    return distance\n",
    "\n",
    "# 主程式迴圈：不斷取得距離並顯示\n",
    "while True:\n",
    "    d = get_distance()    # 取得目前測得的距離\n",
    "    if d == -1:\n",
    "        print(\"太近或沒偵測到物體\")  # 顯示錯誤訊息\n",
    "    else:\n",
    "        print(\"距離: {:.2f} 公分\".format(d))  # 顯示測得的距離\n",
    "    time.sleep(0.5)       # 每0.5秒偵測一次\n"
   ]
  }
 ],
 "metadata": {
  "language_info": {
   "name": "python"
  }
 },
 "nbformat": 4,
 "nbformat_minor": 5
}
