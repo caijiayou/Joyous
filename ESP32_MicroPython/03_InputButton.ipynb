{
 "cells": [
  {
   "cell_type": "markdown",
   "id": "e01be464",
   "metadata": {},
   "source": [
    "https://youtu.be/TqzXco9oN8w"
   ]
  },
  {
   "cell_type": "code",
   "execution_count": null,
   "id": "6b0cf72c",
   "metadata": {},
   "outputs": [],
   "source": [
    "import time\n",
    "from machine import Pin\n",
    "# 定義按鈕輸入引腳, GPIO2 並啟用下拉電阻\n",
    "pin_button = Pin(2, Pin.IN, Pin.PULL_DOWN)\n",
    "# 定義 LED 輸出引腳, GPIO4\n",
    "pin_led = Pin(4, Pin.OUT)\n",
    "# 定義狀態變數, 防止長按時多次觸發\n",
    "status = 0\n",
    "\n",
    "while True:\n",
    "  # 檢查按鍵是否被按下(高電位)\n",
    "if pin_button.value() == 1:\n",
    "    # 等待10豪秒\n",
    "    time.sleep_ms(10)\n",
    "    # 再次確認按鈕為按下狀態, 且 LED 尚未切換\n",
    "    if pin_button.value() == 1 and status == 0:\n",
    "        # 反轉 LED 狀態\n",
    "        pin_led.value(not pin_led.value())\n",
    "  # 狀態更新避免重複觸發\n",
    "          status = 1\n",
    "  # 當按鈕鬆開時(低電位), 重置狀態\n",
    "elif pin_button.value() == 0:\n",
    "    status = 0"
   ]
  }
 ],
 "metadata": {
  "language_info": {
   "name": "python"
  }
 },
 "nbformat": 4,
 "nbformat_minor": 5
}
