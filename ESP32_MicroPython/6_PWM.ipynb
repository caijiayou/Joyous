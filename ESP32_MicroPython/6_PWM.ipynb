{
 "cells": [
  {
   "cell_type": "markdown",
   "id": "c76a1354",
   "metadata": {},
   "source": [
    "https://youtu.be/EKfM_T00J0I"
   ]
  },
  {
   "cell_type": "markdown",
   "id": "0590af55",
   "metadata": {},
   "source": [
    "Code 1"
   ]
  },
  {
   "cell_type": "code",
   "execution_count": null,
   "id": "c9997e16",
   "metadata": {},
   "outputs": [],
   "source": [
    "from machine import Pin, PWM\n",
    "import time\n",
    "\n",
    "# 設定 GPIO5 為 PWM 輸出，頻率 1kHz\n",
    "led = PWM(Pin(5), freq=1000)\n",
    "\n",
    "while True:\n",
    "    led.duty(1023)  # 100% 亮度\n",
    "    time.sleep(1)  \n",
    "    led.duty(768)   # 75% 亮度\n",
    "    time.sleep(1)  \n",
    "    led.duty(512)   # 50% 亮度\n",
    "    time.sleep(1)  \n",
    "    led.duty(256)   # 25% 亮度\n",
    "    time.sleep(1)  \n",
    "    led.duty(0)     # 0% 亮度（關閉）\n",
    "    time.sleep(1)  "
   ]
  },
  {
   "cell_type": "markdown",
   "id": "9bd3cfb9",
   "metadata": {},
   "source": [
    "Code 2"
   ]
  },
  {
   "cell_type": "code",
   "execution_count": null,
   "id": "5b99477c",
   "metadata": {},
   "outputs": [],
   "source": [
    "import time\n",
    "from machine import Pin, PWM\n",
    "\n",
    "# 設定 GPIO5 為 PWM，頻率 1kHz\n",
    "led = PWM(Pin(5), freq=1000)\n",
    "\n",
    "# 設定呼吸燈速度（單位 ms）\n",
    "delay = 5  \n",
    "\n",
    "while True:\n",
    "    # 變亮\n",
    "    for i in range(0, 1024):\n",
    "        led.duty(i)\n",
    "        time.sleep_ms(delay)\n",
    "   \n",
    "    # 變暗\n",
    "    for i in range(1023, -1, -1):\n",
    "        led.duty(i)\n",
    "        time.sleep_ms(delay)"
   ]
  }
 ],
 "metadata": {
  "language_info": {
   "name": "python"
  }
 },
 "nbformat": 4,
 "nbformat_minor": 5
}
